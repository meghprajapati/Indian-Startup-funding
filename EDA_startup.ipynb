{
 "cells": [
  {
   "cell_type": "code",
   "execution_count": 1,
   "id": "67c1bfc0",
   "metadata": {},
   "outputs": [],
   "source": [
    "import pandas as pd\n",
    "import numpy as np\n",
    "import seaborn as sns \n",
    "import matplotlib.pyplot as plt\n",
    "import warnings\n",
    "warnings.filterwarnings(\"ignore\")"
   ]
  },
  {
   "cell_type": "code",
   "execution_count": 2,
   "id": "818d391c",
   "metadata": {},
   "outputs": [],
   "source": [
    "Raw_df=pd.read_excel('cleaned_funding.xlsx')"
   ]
  },
  {
   "cell_type": "code",
   "execution_count": 3,
   "id": "f78ceba9",
   "metadata": {},
   "outputs": [
    {
     "data": {
      "text/html": [
       "<div>\n",
       "<style scoped>\n",
       "    .dataframe tbody tr th:only-of-type {\n",
       "        vertical-align: middle;\n",
       "    }\n",
       "\n",
       "    .dataframe tbody tr th {\n",
       "        vertical-align: top;\n",
       "    }\n",
       "\n",
       "    .dataframe thead th {\n",
       "        text-align: right;\n",
       "    }\n",
       "</style>\n",
       "<table border=\"1\" class=\"dataframe\">\n",
       "  <thead>\n",
       "    <tr style=\"text-align: right;\">\n",
       "      <th></th>\n",
       "      <th>Unnamed: 0</th>\n",
       "      <th>Sr No</th>\n",
       "      <th>Startup Name</th>\n",
       "      <th>Industry Vertical</th>\n",
       "      <th>SubVertical</th>\n",
       "      <th>City  Location</th>\n",
       "      <th>Investors Name</th>\n",
       "      <th>InvestmentnType</th>\n",
       "      <th>Amount in USD</th>\n",
       "      <th>date</th>\n",
       "    </tr>\n",
       "  </thead>\n",
       "  <tbody>\n",
       "    <tr>\n",
       "      <th>0</th>\n",
       "      <td>0</td>\n",
       "      <td>1</td>\n",
       "      <td>BYJU'S</td>\n",
       "      <td>E-Tech</td>\n",
       "      <td>E-learning</td>\n",
       "      <td>Bangalore</td>\n",
       "      <td>Tiger Global Management</td>\n",
       "      <td>Private Equity</td>\n",
       "      <td>200000000.0</td>\n",
       "      <td>2020-01-09</td>\n",
       "    </tr>\n",
       "    <tr>\n",
       "      <th>1</th>\n",
       "      <td>1</td>\n",
       "      <td>2</td>\n",
       "      <td>Shuttl</td>\n",
       "      <td>Transportation</td>\n",
       "      <td>App based shuttle service</td>\n",
       "      <td>Gurgaon</td>\n",
       "      <td>Susquehanna Growth Equity</td>\n",
       "      <td>Series C</td>\n",
       "      <td>8048394.0</td>\n",
       "      <td>2020-01-13</td>\n",
       "    </tr>\n",
       "    <tr>\n",
       "      <th>2</th>\n",
       "      <td>2</td>\n",
       "      <td>3</td>\n",
       "      <td>Mamaearth</td>\n",
       "      <td>eCommerce</td>\n",
       "      <td>Retailer of baby and toddler products</td>\n",
       "      <td>Bangalore</td>\n",
       "      <td>Sequoia Capital India</td>\n",
       "      <td>Series B</td>\n",
       "      <td>18358860.0</td>\n",
       "      <td>2020-01-09</td>\n",
       "    </tr>\n",
       "    <tr>\n",
       "      <th>3</th>\n",
       "      <td>3</td>\n",
       "      <td>4</td>\n",
       "      <td>Wealth Bucket</td>\n",
       "      <td>Finance</td>\n",
       "      <td>Online Investment</td>\n",
       "      <td>New Delhi</td>\n",
       "      <td>Vinod Khatumal</td>\n",
       "      <td>Pre-Series A</td>\n",
       "      <td>3000000.0</td>\n",
       "      <td>2020-01-02</td>\n",
       "    </tr>\n",
       "    <tr>\n",
       "      <th>4</th>\n",
       "      <td>4</td>\n",
       "      <td>5</td>\n",
       "      <td>Fashor</td>\n",
       "      <td>Fashion and Apparel</td>\n",
       "      <td>Embroiled Clothes For Women</td>\n",
       "      <td>Mumbai</td>\n",
       "      <td>Sprout Venture Partners</td>\n",
       "      <td>Seed Funding</td>\n",
       "      <td>1800000.0</td>\n",
       "      <td>2020-01-02</td>\n",
       "    </tr>\n",
       "  </tbody>\n",
       "</table>\n",
       "</div>"
      ],
      "text/plain": [
       "   Unnamed: 0  Sr No   Startup Name    Industry Vertical  \\\n",
       "0           0      1         BYJU'S               E-Tech   \n",
       "1           1      2         Shuttl       Transportation   \n",
       "2           2      3      Mamaearth            eCommerce   \n",
       "3           3      4  Wealth Bucket              Finance   \n",
       "4           4      5         Fashor  Fashion and Apparel   \n",
       "\n",
       "                             SubVertical City  Location  \\\n",
       "0                             E-learning      Bangalore   \n",
       "1              App based shuttle service        Gurgaon   \n",
       "2  Retailer of baby and toddler products      Bangalore   \n",
       "3                      Online Investment      New Delhi   \n",
       "4            Embroiled Clothes For Women         Mumbai   \n",
       "\n",
       "              Investors Name InvestmentnType  Amount in USD       date  \n",
       "0    Tiger Global Management  Private Equity    200000000.0 2020-01-09  \n",
       "1  Susquehanna Growth Equity        Series C      8048394.0 2020-01-13  \n",
       "2      Sequoia Capital India        Series B     18358860.0 2020-01-09  \n",
       "3             Vinod Khatumal    Pre-Series A      3000000.0 2020-01-02  \n",
       "4    Sprout Venture Partners    Seed Funding      1800000.0 2020-01-02  "
      ]
     },
     "execution_count": 3,
     "metadata": {},
     "output_type": "execute_result"
    }
   ],
   "source": [
    "Raw_df.head()"
   ]
  },
  {
   "cell_type": "code",
   "execution_count": 4,
   "id": "e4b40444",
   "metadata": {},
   "outputs": [],
   "source": [
    "Raw_df=Raw_df.drop('Sr No',axis=1) "
   ]
  },
  {
   "cell_type": "code",
   "execution_count": 5,
   "id": "94de6f47",
   "metadata": {},
   "outputs": [],
   "source": [
    "Raw_df['date']=pd.to_datetime(Raw_df['date']).dt.date"
   ]
  },
  {
   "cell_type": "code",
   "execution_count": 6,
   "id": "e80adc97",
   "metadata": {},
   "outputs": [],
   "source": [
    "Raw_df['YrMo'] = [str(x.year) + '-' + str(x.month).zfill(2) for x in Raw_df['date']]\n",
    "Raw_df['Year'] = [str(x.year) for x in Raw_df['date']]"
   ]
  },
  {
   "cell_type": "code",
   "execution_count": 7,
   "id": "7b751eb5",
   "metadata": {},
   "outputs": [],
   "source": [
    "dataset=Raw_df"
   ]
  },
  {
   "cell_type": "code",
   "execution_count": 8,
   "id": "72af58db",
   "metadata": {},
   "outputs": [],
   "source": [
    "dataset['Year Month'] = (pd.to_datetime(dataset['date']).dt.year*100) + (pd.to_datetime(dataset['date']).dt.month)"
   ]
  },
  {
   "cell_type": "code",
   "execution_count": 9,
   "id": "83f0b7f9",
   "metadata": {},
   "outputs": [],
   "source": [
    "dataset['Industry Vertical'][dataset['Industry Vertical'] == 'Edtech'] = 'Ed-tech'\n",
    "dataset['Industry Vertical'][dataset['Industry Vertical'] == 'Fiinance'] = 'Finance'\n",
    "dataset['Industry Vertical'][dataset['Industry Vertical'] == 'Food & Beverage'] = 'Food and Beverage'\n",
    "\n",
    "\n",
    "\n"
   ]
  },
  {
   "cell_type": "code",
   "execution_count": 10,
   "id": "3dc03aa2",
   "metadata": {},
   "outputs": [
    {
     "data": {
      "text/html": [
       "<div>\n",
       "<style scoped>\n",
       "    .dataframe tbody tr th:only-of-type {\n",
       "        vertical-align: middle;\n",
       "    }\n",
       "\n",
       "    .dataframe tbody tr th {\n",
       "        vertical-align: top;\n",
       "    }\n",
       "\n",
       "    .dataframe thead th {\n",
       "        text-align: right;\n",
       "    }\n",
       "</style>\n",
       "<table border=\"1\" class=\"dataframe\">\n",
       "  <thead>\n",
       "    <tr style=\"text-align: right;\">\n",
       "      <th></th>\n",
       "      <th>Unnamed: 0</th>\n",
       "      <th>Startup Name</th>\n",
       "      <th>Industry Vertical</th>\n",
       "      <th>SubVertical</th>\n",
       "      <th>CityMod</th>\n",
       "      <th>Investors Name</th>\n",
       "      <th>InvestmentnType</th>\n",
       "      <th>Amount in USD</th>\n",
       "      <th>date</th>\n",
       "      <th>YrMo</th>\n",
       "      <th>Year</th>\n",
       "      <th>Year Month</th>\n",
       "    </tr>\n",
       "  </thead>\n",
       "  <tbody>\n",
       "    <tr>\n",
       "      <th>0</th>\n",
       "      <td>0</td>\n",
       "      <td>BYJU'S</td>\n",
       "      <td>E-Tech</td>\n",
       "      <td>E-learning</td>\n",
       "      <td>Bangalore</td>\n",
       "      <td>Tiger Global Management</td>\n",
       "      <td>Private Equity</td>\n",
       "      <td>200000000.0</td>\n",
       "      <td>2020-01-09</td>\n",
       "      <td>2020-01</td>\n",
       "      <td>2020</td>\n",
       "      <td>202001</td>\n",
       "    </tr>\n",
       "    <tr>\n",
       "      <th>1</th>\n",
       "      <td>1</td>\n",
       "      <td>Shuttl</td>\n",
       "      <td>Transportation</td>\n",
       "      <td>App based shuttle service</td>\n",
       "      <td>Gurgaon</td>\n",
       "      <td>Susquehanna Growth Equity</td>\n",
       "      <td>Series C</td>\n",
       "      <td>8048394.0</td>\n",
       "      <td>2020-01-13</td>\n",
       "      <td>2020-01</td>\n",
       "      <td>2020</td>\n",
       "      <td>202001</td>\n",
       "    </tr>\n",
       "    <tr>\n",
       "      <th>2</th>\n",
       "      <td>2</td>\n",
       "      <td>Mamaearth</td>\n",
       "      <td>eCommerce</td>\n",
       "      <td>Retailer of baby and toddler products</td>\n",
       "      <td>Bangalore</td>\n",
       "      <td>Sequoia Capital India</td>\n",
       "      <td>Series B</td>\n",
       "      <td>18358860.0</td>\n",
       "      <td>2020-01-09</td>\n",
       "      <td>2020-01</td>\n",
       "      <td>2020</td>\n",
       "      <td>202001</td>\n",
       "    </tr>\n",
       "    <tr>\n",
       "      <th>3</th>\n",
       "      <td>3</td>\n",
       "      <td>Wealth Bucket</td>\n",
       "      <td>Finance</td>\n",
       "      <td>Online Investment</td>\n",
       "      <td>New Delhi</td>\n",
       "      <td>Vinod Khatumal</td>\n",
       "      <td>Pre-Series A</td>\n",
       "      <td>3000000.0</td>\n",
       "      <td>2020-01-02</td>\n",
       "      <td>2020-01</td>\n",
       "      <td>2020</td>\n",
       "      <td>202001</td>\n",
       "    </tr>\n",
       "    <tr>\n",
       "      <th>4</th>\n",
       "      <td>4</td>\n",
       "      <td>Fashor</td>\n",
       "      <td>Fashion and Apparel</td>\n",
       "      <td>Embroiled Clothes For Women</td>\n",
       "      <td>Mumbai</td>\n",
       "      <td>Sprout Venture Partners</td>\n",
       "      <td>Seed Funding</td>\n",
       "      <td>1800000.0</td>\n",
       "      <td>2020-01-02</td>\n",
       "      <td>2020-01</td>\n",
       "      <td>2020</td>\n",
       "      <td>202001</td>\n",
       "    </tr>\n",
       "    <tr>\n",
       "      <th>...</th>\n",
       "      <td>...</td>\n",
       "      <td>...</td>\n",
       "      <td>...</td>\n",
       "      <td>...</td>\n",
       "      <td>...</td>\n",
       "      <td>...</td>\n",
       "      <td>...</td>\n",
       "      <td>...</td>\n",
       "      <td>...</td>\n",
       "      <td>...</td>\n",
       "      <td>...</td>\n",
       "      <td>...</td>\n",
       "    </tr>\n",
       "    <tr>\n",
       "      <th>3039</th>\n",
       "      <td>3039</td>\n",
       "      <td>Printvenue</td>\n",
       "      <td>NaN</td>\n",
       "      <td>NaN</td>\n",
       "      <td>NaN</td>\n",
       "      <td>Asia Pacific Internet Group</td>\n",
       "      <td>Private Equity</td>\n",
       "      <td>4500000.0</td>\n",
       "      <td>2015-01-29</td>\n",
       "      <td>2015-01</td>\n",
       "      <td>2015</td>\n",
       "      <td>201501</td>\n",
       "    </tr>\n",
       "    <tr>\n",
       "      <th>3040</th>\n",
       "      <td>3040</td>\n",
       "      <td>Graphene</td>\n",
       "      <td>NaN</td>\n",
       "      <td>NaN</td>\n",
       "      <td>NaN</td>\n",
       "      <td>KARSEMVEN Fund</td>\n",
       "      <td>Private Equity</td>\n",
       "      <td>825000.0</td>\n",
       "      <td>2015-01-29</td>\n",
       "      <td>2015-01</td>\n",
       "      <td>2015</td>\n",
       "      <td>201501</td>\n",
       "    </tr>\n",
       "    <tr>\n",
       "      <th>3041</th>\n",
       "      <td>3041</td>\n",
       "      <td>Mad Street Den</td>\n",
       "      <td>NaN</td>\n",
       "      <td>NaN</td>\n",
       "      <td>NaN</td>\n",
       "      <td>Exfinity Fund, GrowX Ventures.</td>\n",
       "      <td>Private Equity</td>\n",
       "      <td>1500000.0</td>\n",
       "      <td>2015-01-30</td>\n",
       "      <td>2015-01</td>\n",
       "      <td>2015</td>\n",
       "      <td>201501</td>\n",
       "    </tr>\n",
       "    <tr>\n",
       "      <th>3042</th>\n",
       "      <td>3042</td>\n",
       "      <td>Simplotel</td>\n",
       "      <td>NaN</td>\n",
       "      <td>NaN</td>\n",
       "      <td>NaN</td>\n",
       "      <td>MakeMyTrip</td>\n",
       "      <td>Private Equity</td>\n",
       "      <td>NaN</td>\n",
       "      <td>2015-01-30</td>\n",
       "      <td>2015-01</td>\n",
       "      <td>2015</td>\n",
       "      <td>201501</td>\n",
       "    </tr>\n",
       "    <tr>\n",
       "      <th>3043</th>\n",
       "      <td>3043</td>\n",
       "      <td>couponmachine.in</td>\n",
       "      <td>NaN</td>\n",
       "      <td>NaN</td>\n",
       "      <td>NaN</td>\n",
       "      <td>UK based Group of Angel Investors</td>\n",
       "      <td>Seed Funding</td>\n",
       "      <td>140000.0</td>\n",
       "      <td>2015-01-31</td>\n",
       "      <td>2015-01</td>\n",
       "      <td>2015</td>\n",
       "      <td>201501</td>\n",
       "    </tr>\n",
       "  </tbody>\n",
       "</table>\n",
       "<p>3044 rows × 12 columns</p>\n",
       "</div>"
      ],
      "text/plain": [
       "      Unnamed: 0      Startup Name    Industry Vertical  \\\n",
       "0              0            BYJU'S               E-Tech   \n",
       "1              1            Shuttl       Transportation   \n",
       "2              2         Mamaearth            eCommerce   \n",
       "3              3     Wealth Bucket              Finance   \n",
       "4              4            Fashor  Fashion and Apparel   \n",
       "...          ...               ...                  ...   \n",
       "3039        3039        Printvenue                  NaN   \n",
       "3040        3040          Graphene                  NaN   \n",
       "3041        3041    Mad Street Den                  NaN   \n",
       "3042        3042         Simplotel                  NaN   \n",
       "3043        3043  couponmachine.in                  NaN   \n",
       "\n",
       "                                SubVertical    CityMod  \\\n",
       "0                                E-learning  Bangalore   \n",
       "1                 App based shuttle service    Gurgaon   \n",
       "2     Retailer of baby and toddler products  Bangalore   \n",
       "3                         Online Investment  New Delhi   \n",
       "4               Embroiled Clothes For Women     Mumbai   \n",
       "...                                     ...        ...   \n",
       "3039                                    NaN        NaN   \n",
       "3040                                    NaN        NaN   \n",
       "3041                                    NaN        NaN   \n",
       "3042                                    NaN        NaN   \n",
       "3043                                    NaN        NaN   \n",
       "\n",
       "                         Investors Name InvestmentnType  Amount in USD  \\\n",
       "0               Tiger Global Management  Private Equity    200000000.0   \n",
       "1             Susquehanna Growth Equity        Series C      8048394.0   \n",
       "2                 Sequoia Capital India        Series B     18358860.0   \n",
       "3                        Vinod Khatumal    Pre-Series A      3000000.0   \n",
       "4               Sprout Venture Partners    Seed Funding      1800000.0   \n",
       "...                                 ...             ...            ...   \n",
       "3039        Asia Pacific Internet Group  Private Equity      4500000.0   \n",
       "3040                     KARSEMVEN Fund  Private Equity       825000.0   \n",
       "3041     Exfinity Fund, GrowX Ventures.  Private Equity      1500000.0   \n",
       "3042                         MakeMyTrip  Private Equity            NaN   \n",
       "3043  UK based Group of Angel Investors    Seed Funding       140000.0   \n",
       "\n",
       "            date     YrMo  Year  Year Month  \n",
       "0     2020-01-09  2020-01  2020      202001  \n",
       "1     2020-01-13  2020-01  2020      202001  \n",
       "2     2020-01-09  2020-01  2020      202001  \n",
       "3     2020-01-02  2020-01  2020      202001  \n",
       "4     2020-01-02  2020-01  2020      202001  \n",
       "...          ...      ...   ...         ...  \n",
       "3039  2015-01-29  2015-01  2015      201501  \n",
       "3040  2015-01-29  2015-01  2015      201501  \n",
       "3041  2015-01-30  2015-01  2015      201501  \n",
       "3042  2015-01-30  2015-01  2015      201501  \n",
       "3043  2015-01-31  2015-01  2015      201501  \n",
       "\n",
       "[3044 rows x 12 columns]"
      ]
     },
     "execution_count": 10,
     "metadata": {},
     "output_type": "execute_result"
    }
   ],
   "source": [
    "dataset.columns\n",
    "dataset=dataset.rename(columns = {'City  Location':'CityMod'})\n",
    "dataset"
   ]
  },
  {
   "cell_type": "code",
   "execution_count": 11,
   "id": "dd9dc79d",
   "metadata": {},
   "outputs": [],
   "source": [
    "Raw_df=dataset"
   ]
  },
  {
   "cell_type": "code",
   "execution_count": 12,
   "id": "e500118b",
   "metadata": {},
   "outputs": [],
   "source": [
    "Raw_df['CityMod']=Raw_df['CityMod'].replace('Bangalore / Palo Alto','Bangalore')\n",
    "Raw_df['CityMod']=Raw_df['CityMod'].replace('Bangalore / San Mateo','Bangalore')\n",
    "Raw_df['CityMod']=Raw_df['CityMod'].replace('Bangalore/ Bangkok','Bangalore')\n",
    "Raw_df['CityMod']=Raw_df['CityMod'].replace('Bangalore / SFO','Bangalore')\n",
    "Raw_df['CityMod']=Raw_df['CityMod'].replace('Bangalore / USA','Bangalore')\n",
    "Raw_df['CityMod']=Raw_df['CityMod'].replace('bangalore','Bangalore')\n",
    "Raw_df['CityMod']=Raw_df['CityMod'].replace('Chennai/ Singapore','Chennai')\n",
    "Raw_df['CityMod']=Raw_df['CityMod'].replace('Dallas / Hyderabad','Hyderabad')\n",
    "Raw_df['CityMod']=Raw_df['CityMod'].replace('Hyderabad/USA','Hyderabad')\n",
    "Raw_df['CityMod']=Raw_df['CityMod'].replace('Gurgaon / SFO','Gurgaon')\n",
    "Raw_df['CityMod']=Raw_df['CityMod'].replace('India / US','India')\n",
    "Raw_df['CityMod']=Raw_df['CityMod'].replace('London','India')\n",
    "Raw_df['CityMod']=Raw_df['CityMod'].replace('Mumbai / Global','Mumbai')\n",
    "Raw_df['CityMod']=Raw_df['CityMod'].replace('Mumbai / NY','Mumbai')\n",
    "Raw_df['CityMod']=Raw_df['CityMod'].replace('Mumbai / UK','Mumbai')\n",
    "Raw_df['CityMod']=Raw_df['CityMod'].replace('New Delhi/ Houston','New Delhi')\n",
    "Raw_df['CityMod']=Raw_df['CityMod'].replace('New Delhi / US','New Delhi')\n",
    "Raw_df['CityMod']=Raw_df['CityMod'].replace('New Delhi / California','New Delhi')\n",
    "Raw_df['CityMod']=Raw_df['CityMod'].replace('New York/ India','India')\n",
    "Raw_df['CityMod']=Raw_df['CityMod'].replace('Noida / Singapore','Noida')\n",
    "Raw_df['CityMod']=Raw_df['CityMod'].replace('Pune / Dubai','Pune')\n",
    "Raw_df['CityMod']=Raw_df['CityMod'].replace('Pune / US','Pune')\n",
    "Raw_df['CityMod']=Raw_df['CityMod'].replace('Pune/Seattle','Pune')\n",
    "Raw_df['CityMod']=Raw_df['CityMod'].replace('Pune / Singapore','Pune')\n",
    "Raw_df['CityMod']=Raw_df['CityMod'].replace('Seattle / Bangalore','Bangalore')\n",
    "Raw_df['CityMod']=Raw_df['CityMod'].replace('SFO / Bangalore','Bangalore')\n",
    "Raw_df['CityMod']=Raw_df['CityMod'].replace('US/India','India')\n",
    "Raw_df['CityMod']=Raw_df['CityMod'].replace('USA/India','India')\n",
    "Raw_df['CityMod']=Raw_df['CityMod'].replace('US','India')\n",
    "Raw_df['CityMod']=Raw_df['CityMod'].replace('USA','India')\n",
    "Raw_df['CityMod']=Raw_df['CityMod'].replace('\\\\\\\\xc2\\\\\\\\xa0Bangalore','Bangalore')\n",
    "Raw_df['CityMod']=Raw_df['CityMod'].replace('\\\\\\\\xc2\\\\\\\\xa0Noida','Noida')\n",
    "Raw_df['CityMod']=Raw_df['CityMod'].replace('\\\\\\\\xc2\\\\\\\\xa0Mumbai','Mumbai')\n",
    "\n",
    "Raw_df['CityMod']=Raw_df['CityMod'].replace('Tulangan','Telangana')\n",
    "\n",
    "Raw_df['CityMod']=Raw_df['CityMod'].replace('Bengaluru','Bangalore')\n",
    "\n",
    "Raw_df['CityMod']=Raw_df['CityMod'].replace('Kolkatta','Kolkata')\n",
    "\n",
    "Raw_df['CityMod']=Raw_df['CityMod'].replace('Bengaluru','Bangalore')\n",
    "\n",
    "Raw_df['CityMod']=Raw_df['CityMod'].replace('Ahemadabad','Ahmedabad')\n",
    "\n",
    "Raw_df['CityMod']=Raw_df['CityMod'].replace('Ahemdabad','Ahmedabad')\n",
    "\n",
    "\n",
    "\n",
    "\n",
    "\n"
   ]
  },
  {
   "cell_type": "code",
   "execution_count": 13,
   "id": "78449813",
   "metadata": {},
   "outputs": [],
   "source": [
    "# Replacing 'Undisclosed investors' with a common name 'Undisclosed Investors'\n",
    "dataset['Investors Name'][dataset['Investors Name'] == 'Undisclosed investors'] = 'Undisclosed Investors'\n",
    "dataset['Investors Name'][dataset['Investors Name'] == 'Undisclosed Investor'] = 'Undisclosed Investors'\n",
    "dataset['Investors Name'][dataset['Investors Name'] == 'undisclosed investors'] = 'Undisclosed Investors'\n",
    "dataset['Investors Name'][dataset['Investors Name'] == 'Undisclosed'] = 'Undisclosed Investors'"
   ]
  },
  {
   "cell_type": "code",
   "execution_count": 14,
   "id": "82f44d0c",
   "metadata": {},
   "outputs": [
    {
     "data": {
      "text/plain": [
       "array(['Bangalore', 'Gurgaon', 'New Delhi', 'Mumbai', 'Chennai', 'Pune',\n",
       "       'Noida', 'Faridabad', 'San Francisco', 'San Jose,', 'Amritsar',\n",
       "       'Kormangala', 'Telangana', 'Hyderabad', 'Burnsville', 'Menlo Park',\n",
       "       'Palo Alto', 'Santa Monica', 'Singapore', 'Taramani', 'Andheri',\n",
       "       'Chembur', 'Nairobi', 'Haryana', 'New York', 'Karnataka',\n",
       "       'Mumbai/Bengaluru', 'Bhopal', 'Bengaluru and Gurugram',\n",
       "       'India/Singapore', 'Jaipur', 'India/US', 'Nagpur', 'Indore',\n",
       "       'New York, Bengaluru', 'California', 'India', 'Ahmedabad',\n",
       "       'Rourkela', 'Srinagar', 'Bhubneswar', 'Chandigarh',\n",
       "       'Delhi & Cambridge', 'Kolkata', 'Coimbatore', 'Udaipur', nan,\n",
       "       'Bhubaneswar', 'Surat', 'Goa', 'Uttar Pradesh', 'Nw Delhi', 'Gaya',\n",
       "       'Vadodara', 'Trivandrum', 'Missourie', 'Panaji', 'Gwalior',\n",
       "       'Karur', 'Udupi', 'Kochi', 'Agra', 'Hubli', 'Kerala', 'Kozhikode',\n",
       "       'Siliguri', 'Lucknow', 'Kanpur', 'Varanasi', 'Jodhpur', 'Boston',\n",
       "       'Goa/Hyderabad', 'Belgaum'], dtype=object)"
      ]
     },
     "execution_count": 14,
     "metadata": {},
     "output_type": "execute_result"
    }
   ],
   "source": [
    "Raw_df['CityMod'].unique()"
   ]
  },
  {
   "cell_type": "markdown",
   "id": "3a8f50de",
   "metadata": {},
   "source": [
    "Q1. How does the funding ecosystem change with time?¶\n"
   ]
  },
  {
   "cell_type": "code",
   "execution_count": 15,
   "id": "fbe46102",
   "metadata": {},
   "outputs": [],
   "source": [
    "months = dataset['Year Month'].value_counts().head(20)"
   ]
  },
  {
   "cell_type": "code",
   "execution_count": 16,
   "id": "8dae4df3",
   "metadata": {},
   "outputs": [
    {
     "name": "stdout",
     "output_type": "stream",
     "text": [
      "Average number of fundings each month are 85.8\n"
     ]
    }
   ],
   "source": [
    "print('Average number of fundings each month are',months.values.mean())\n"
   ]
  },
  {
   "cell_type": "code",
   "execution_count": 17,
   "id": "cc458efd",
   "metadata": {},
   "outputs": [
    {
     "name": "stdout",
     "output_type": "stream",
     "text": [
      "Minimum number of fundings made in a month are 71\n"
     ]
    }
   ],
   "source": [
    "print('Minimum number of fundings made in a month are',months.values.min())\n"
   ]
  },
  {
   "cell_type": "code",
   "execution_count": 18,
   "id": "9499268e",
   "metadata": {},
   "outputs": [
    {
     "name": "stdout",
     "output_type": "stream",
     "text": [
      "Maximum number of fundings in a month are 104\n"
     ]
    }
   ],
   "source": [
    "print('Maximum number of fundings in a month are',months.values.max())\n"
   ]
  },
  {
   "cell_type": "code",
   "execution_count": 19,
   "id": "d9a9875c",
   "metadata": {},
   "outputs": [
    {
     "ename": "TypeError",
     "evalue": "barplot() takes from 0 to 1 positional arguments but 2 positional arguments (and 1 keyword-only argument) were given",
     "output_type": "error",
     "traceback": [
      "\u001b[1;31m---------------------------------------------------------------------------\u001b[0m",
      "\u001b[1;31mTypeError\u001b[0m                                 Traceback (most recent call last)",
      "Cell \u001b[1;32mIn[19], line 3\u001b[0m\n\u001b[0;32m      1\u001b[0m \u001b[38;5;66;03m# Creating a barplot for Number of fundings made each month\u001b[39;00m\n\u001b[0;32m      2\u001b[0m plt\u001b[38;5;241m.\u001b[39mfigure(figsize \u001b[38;5;241m=\u001b[39m (\u001b[38;5;241m20\u001b[39m, \u001b[38;5;241m7\u001b[39m))\n\u001b[1;32m----> 3\u001b[0m \u001b[43msns\u001b[49m\u001b[38;5;241;43m.\u001b[39;49m\u001b[43mbarplot\u001b[49m\u001b[43m(\u001b[49m\u001b[43mmonths\u001b[49m\u001b[38;5;241;43m.\u001b[39;49m\u001b[43mindex\u001b[49m\u001b[43m,\u001b[49m\u001b[43m \u001b[49m\u001b[43mmonths\u001b[49m\u001b[38;5;241;43m.\u001b[39;49m\u001b[43mvalues\u001b[49m\u001b[43m,\u001b[49m\u001b[43m \u001b[49m\u001b[43mpalette\u001b[49m\u001b[43m \u001b[49m\u001b[38;5;241;43m=\u001b[39;49m\u001b[43m \u001b[49m\u001b[38;5;124;43m'\u001b[39;49m\u001b[38;5;124;43mcolorblind\u001b[39;49m\u001b[38;5;124;43m'\u001b[39;49m\u001b[43m)\u001b[49m\n\u001b[0;32m      4\u001b[0m plt\u001b[38;5;241m.\u001b[39mtitle(\u001b[38;5;124m'\u001b[39m\u001b[38;5;124mNumber of Fundings each month\u001b[39m\u001b[38;5;124m'\u001b[39m, fontdict \u001b[38;5;241m=\u001b[39m {\u001b[38;5;124m'\u001b[39m\u001b[38;5;124mfontname\u001b[39m\u001b[38;5;124m'\u001b[39m : \u001b[38;5;124m'\u001b[39m\u001b[38;5;124mMonospace\u001b[39m\u001b[38;5;124m'\u001b[39m, \u001b[38;5;124m'\u001b[39m\u001b[38;5;124mfontsize\u001b[39m\u001b[38;5;124m'\u001b[39m : \u001b[38;5;241m30\u001b[39m, \u001b[38;5;124m'\u001b[39m\u001b[38;5;124mfontweight\u001b[39m\u001b[38;5;124m'\u001b[39m : \u001b[38;5;124m'\u001b[39m\u001b[38;5;124mbold\u001b[39m\u001b[38;5;124m'\u001b[39m})\n\u001b[0;32m      5\u001b[0m plt\u001b[38;5;241m.\u001b[39mxlabel(\u001b[38;5;124m'\u001b[39m\u001b[38;5;124mMonths\u001b[39m\u001b[38;5;124m'\u001b[39m, fontdict \u001b[38;5;241m=\u001b[39m {\u001b[38;5;124m'\u001b[39m\u001b[38;5;124mfontname\u001b[39m\u001b[38;5;124m'\u001b[39m : \u001b[38;5;124m'\u001b[39m\u001b[38;5;124mMonospace\u001b[39m\u001b[38;5;124m'\u001b[39m, \u001b[38;5;124m'\u001b[39m\u001b[38;5;124mfontsize\u001b[39m\u001b[38;5;124m'\u001b[39m : \u001b[38;5;241m20\u001b[39m})\n",
      "\u001b[1;31mTypeError\u001b[0m: barplot() takes from 0 to 1 positional arguments but 2 positional arguments (and 1 keyword-only argument) were given"
     ]
    },
    {
     "data": {
      "text/plain": [
       "<Figure size 2000x700 with 0 Axes>"
      ]
     },
     "metadata": {},
     "output_type": "display_data"
    }
   ],
   "source": [
    "# Creating a barplot for Number of fundings made each month\n",
    "plt.figure(figsize = (20, 7))\n",
    "sns.barplot(months.index, months.values, palette = 'colorblind')\n",
    "plt.title('Number of Fundings each month', fontdict = {'fontname' : 'Monospace', 'fontsize' : 30, 'fontweight' : 'bold'})\n",
    "plt.xlabel('Months', fontdict = {'fontname' : 'Monospace', 'fontsize' : 20})\n",
    "plt.ylabel('Number of Fundings', fontdict = {'fontname' : 'Monospace', 'fontsize' : 20})\n",
    "plt.tick_params(axis = 'x', labelsize = 12)\n",
    "plt.tick_params(axis = 'y', labelsize = 15)\n",
    "plt.grid()\n",
    "plt.show()"
   ]
  },
  {
   "cell_type": "code",
   "execution_count": null,
   "id": "f4fb4cd5",
   "metadata": {},
   "outputs": [],
   "source": [
    "#Q2. Do cities play a major role in funding?¶\n"
   ]
  },
  {
   "cell_type": "code",
   "execution_count": null,
   "id": "e9619b29",
   "metadata": {},
   "outputs": [],
   "source": [
    "cities = dataset['CityMod'].value_counts().head(10)\n"
   ]
  },
  {
   "cell_type": "code",
   "execution_count": null,
   "id": "d3a6957d",
   "metadata": {},
   "outputs": [],
   "source": [
    "cities.values"
   ]
  },
  {
   "cell_type": "code",
   "execution_count": null,
   "id": "8acb17b3",
   "metadata": {},
   "outputs": [],
   "source": [
    "cities.index\n"
   ]
  },
  {
   "cell_type": "code",
   "execution_count": null,
   "id": "3d91231d",
   "metadata": {},
   "outputs": [],
   "source": [
    "# Creating a barplot for number of fundings made in each city\n",
    "plt.figure(figsize = (20, 7))\n",
    "sns.barplot(cities.values, cities.index, palette = 'Paired')\n",
    "plt.title('Number of fundings in each city', fontdict = {'fontname' : 'Monospace', 'fontsize' : 30, 'fontweight' : 'bold'})\n",
    "plt.xlabel('Number of fundings', fontdict = {'fontname' : 'Monospace', 'fontsize' : 20})\n",
    "plt.ylabel('Cities', fontdict = {'fontname' : 'Monospace', 'fontsize' : 20})\n",
    "plt.tick_params(labelsize = 15)\n",
    "plt.grid()\n",
    "plt.show()"
   ]
  },
  {
   "cell_type": "markdown",
   "id": "37a15523",
   "metadata": {},
   "source": [
    "Q3. Which industries are favoured by investors for funding?¶\n"
   ]
  },
  {
   "cell_type": "code",
   "execution_count": null,
   "id": "164a37c4",
   "metadata": {},
   "outputs": [],
   "source": [
    "industry = dataset['Industry Vertical'].value_counts().head(10)\n"
   ]
  },
  {
   "cell_type": "code",
   "execution_count": null,
   "id": "fd5aa8b5",
   "metadata": {},
   "outputs": [],
   "source": [
    "# Preview of frequencies of top 10 industy types\n",
    "industry.values"
   ]
  },
  {
   "cell_type": "code",
   "execution_count": null,
   "id": "f8254f30",
   "metadata": {},
   "outputs": [],
   "source": [
    "# Prevew the names of top 10 industry types\n",
    "industry.index"
   ]
  },
  {
   "cell_type": "code",
   "execution_count": null,
   "id": "b91228e1",
   "metadata": {},
   "outputs": [],
   "source": [
    "plt.figure(figsize = (20, 10))\n",
    "plt.pie(industry.values, labels = industry.index, startangle = 30, explode = (0 , 0.20, 0, 0, 0, 0, 0, 0, 0, 0), \n",
    "        shadow = True, autopct = '%1.1f%%')\n",
    "plt.axis('equal')\n",
    "plt.title('Industry-wise distribution', fontdict = {'fontname' : 'Monospace', 'fontsize' : 30, 'fontweight' : 'bold'})\n",
    "plt.show()"
   ]
  },
  {
   "cell_type": "code",
   "execution_count": null,
   "id": "d454e209",
   "metadata": {},
   "outputs": [],
   "source": [
    "# Selecting the most frequent subverticals\n",
    "subvertical = dataset['SubVertical'].value_counts().head(10)"
   ]
  },
  {
   "cell_type": "code",
   "execution_count": null,
   "id": "42236dd6",
   "metadata": {},
   "outputs": [],
   "source": [
    "# Preview of frequencies of top 10 subverticals\n",
    "subvertical.values"
   ]
  },
  {
   "cell_type": "code",
   "execution_count": null,
   "id": "03717711",
   "metadata": {},
   "outputs": [],
   "source": [
    "# Preview of names of top 10 subverticals\n",
    "subvertical.index"
   ]
  },
  {
   "cell_type": "code",
   "execution_count": null,
   "id": "d0ab8b37",
   "metadata": {},
   "outputs": [],
   "source": [
    "Raw_df['SubVertical']=Raw_df['SubVertical'].replace('Food Delivery Platform','Online Food Delivery')"
   ]
  },
  {
   "cell_type": "code",
   "execution_count": null,
   "id": "23c8a09d",
   "metadata": {},
   "outputs": [],
   "source": [
    "import datetime\n",
    "Raw_df[\"yearmonth\"] = pd.to_datetime(Raw_df['Date'],format='%d/%m/%Y').apply(lambda x: datetime.date(x.year,x.month,1))\n",
    "\n",
    "cnt_srs = df[\"yearmonth\"].value_counts()\n",
    "cnt_srs = cnt_srs.sort_index()\n",
    "trace = go.Scatter(\n",
    "    x=cnt_srs.index.astype(str),\n",
    "    y=cnt_srs.values,\n",
    "    marker=dict(\n",
    "        color=\"#1E90FF\",\n",
    "    ),\n",
    ")\n",
    "\n",
    "layout = go.Layout(\n",
    "    title=go.layout.Title(\n",
    "        text=\"Number of funding deals - month on month\",\n",
    "        x=0.5\n",
    "    ),\n",
    "    font=dict(size=14),\n",
    "    width=800,\n",
    "    height=500,\n",
    ")\n",
    "\n",
    "data = [trace]\n",
    "fig = go.Figure(data=data, layout=layout)\n",
    "py.iplot(fig, filename=\"fundings\")"
   ]
  },
  {
   "cell_type": "code",
   "execution_count": null,
   "id": "f66a614c",
   "metadata": {},
   "outputs": [],
   "source": [
    "Raw_df.to"
   ]
  },
  {
   "cell_type": "code",
   "execution_count": null,
   "id": "ccdcedb6",
   "metadata": {},
   "outputs": [],
   "source": [
    "Raw_df"
   ]
  },
  {
   "cell_type": "markdown",
   "id": "a175baa3",
   "metadata": {},
   "source": [
    "Q2: Which Industry types are favoured by the investors??\n",
    "\n"
   ]
  },
  {
   "cell_type": "code",
   "execution_count": null,
   "id": "b8d1cdd8",
   "metadata": {},
   "outputs": [],
   "source": [
    "industry = Raw_df.Industry vertical.value_counts().head(10)\n",
    "industry"
   ]
  },
  {
   "cell_type": "code",
   "execution_count": 20,
   "id": "d6af5769",
   "metadata": {},
   "outputs": [
    {
     "data": {
      "text/plain": [
       "0       2020-01-09\n",
       "1       2020-01-13\n",
       "2       2020-01-09\n",
       "3       2020-01-02\n",
       "4       2020-01-02\n",
       "           ...    \n",
       "3039    2015-01-29\n",
       "3040    2015-01-29\n",
       "3041    2015-01-30\n",
       "3042    2015-01-30\n",
       "3043    2015-01-31\n",
       "Name: date, Length: 3044, dtype: object"
      ]
     },
     "execution_count": 20,
     "metadata": {},
     "output_type": "execute_result"
    }
   ],
   "source": [
    "Raw_df[[\"date\"]"
   ]
  },
  {
   "cell_type": "code",
   "execution_count": 23,
   "id": "3ffef09d",
   "metadata": {},
   "outputs": [
    {
     "data": {
      "text/plain": [
       "array(['Bangalore', 'Gurgaon', 'New Delhi', 'Mumbai', 'Chennai', 'Pune',\n",
       "       'Noida', 'Faridabad', 'San Francisco', 'San Jose,', 'Amritsar',\n",
       "       'Kormangala', 'Telangana', 'Hyderabad', 'Burnsville', 'Menlo Park',\n",
       "       'Palo Alto', 'Santa Monica', 'Singapore', 'Taramani', 'Andheri',\n",
       "       'Chembur', 'Nairobi', 'Haryana', 'New York', 'Karnataka',\n",
       "       'Mumbai/Bengaluru', 'Bhopal', 'Bengaluru and Gurugram',\n",
       "       'India/Singapore', 'Jaipur', 'India/US', 'Nagpur', 'Indore',\n",
       "       'New York, Bengaluru', 'California', 'India', 'Ahmedabad',\n",
       "       'Rourkela', 'Srinagar', 'Bhubneswar', 'Chandigarh',\n",
       "       'Delhi & Cambridge', 'Kolkata', 'Coimbatore', 'Udaipur', nan,\n",
       "       'Bhubaneswar', 'Surat', 'Goa', 'Uttar Pradesh', 'Nw Delhi', 'Gaya',\n",
       "       'Vadodara', 'Trivandrum', 'Missourie', 'Panaji', 'Gwalior',\n",
       "       'Karur', 'Udupi', 'Kochi', 'Agra', 'Hubli', 'Kerala', 'Kozhikode',\n",
       "       'Siliguri', 'Lucknow', 'Kanpur', 'Varanasi', 'Jodhpur', 'Boston',\n",
       "       'Goa/Hyderabad', 'Belgaum'], dtype=object)"
      ]
     },
     "execution_count": 23,
     "metadata": {},
     "output_type": "execute_result"
    }
   ],
   "source": [
    "Raw_df[\"CityMod\"]"
   ]
  },
  {
   "cell_type": "code",
   "execution_count": 28,
   "id": "886dcb40",
   "metadata": {},
   "outputs": [
    {
     "data": {
      "text/plain": [
       "Consumer Internet                                        941\n",
       "Technology                                               489\n",
       "eCommerce                                                299\n",
       "Finance                                                   78\n",
       "Healthcare                                                70\n",
       "                                                        ... \n",
       "End-to-End Lending platform                                1\n",
       "on-demand healthcare marketplace                           1\n",
       "360-degree view creating platform                          1\n",
       "Advertising & Marketing Community Networking platform      1\n",
       "Online Travel Marketplace                                  1\n",
       "Name: Industry Vertical, Length: 804, dtype: int64"
      ]
     },
     "execution_count": 28,
     "metadata": {},
     "output_type": "execute_result"
    }
   ],
   "source": [
    "Raw_df[\"Industry Vertical\"].value_counts() "
   ]
  },
  {
   "cell_type": "code",
   "execution_count": null,
   "id": "4d67b9f5",
   "metadata": {},
   "outputs": [],
   "source": []
  }
 ],
 "metadata": {
  "kernelspec": {
   "display_name": "Python 3 (ipykernel)",
   "language": "python",
   "name": "python3"
  },
  "language_info": {
   "codemirror_mode": {
    "name": "ipython",
    "version": 3
   },
   "file_extension": ".py",
   "mimetype": "text/x-python",
   "name": "python",
   "nbconvert_exporter": "python",
   "pygments_lexer": "ipython3",
   "version": "3.10.7"
  }
 },
 "nbformat": 4,
 "nbformat_minor": 5
}
